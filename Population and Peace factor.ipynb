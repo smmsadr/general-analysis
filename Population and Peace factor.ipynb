{
 "cells": [
  {
   "cell_type": "markdown",
   "metadata": {},
   "source": [
    "# Population and Peace factor"
   ]
  },
  {
   "cell_type": "code",
   "execution_count": 15,
   "metadata": {},
   "outputs": [],
   "source": [
    "%matplotlib inline\n",
    "\n",
    "import pandas as pd\n",
    "from matplotlib import pyplot as plt"
   ]
  },
  {
   "cell_type": "code",
   "execution_count": 2,
   "metadata": {},
   "outputs": [],
   "source": [
    "df = pd.read_html('https://en.wikipedia.org/wiki/Global_Peace_Index')"
   ]
  },
  {
   "cell_type": "code",
   "execution_count": 3,
   "metadata": {},
   "outputs": [],
   "source": [
    "countries = df[1][['Country','2019 rank',\"2019 score[12]\"]].set_index('Country')"
   ]
  },
  {
   "cell_type": "code",
   "execution_count": 4,
   "metadata": {},
   "outputs": [],
   "source": [
    "df = pd.read_html('https://www.worldometers.info/world-population/population-by-country/')"
   ]
  },
  {
   "cell_type": "code",
   "execution_count": 5,
   "metadata": {},
   "outputs": [],
   "source": [
    "df = df[0][[\"Country (or dependency)\", 'Population (2019)', 'Density (P/Km²)']].set_index(['Country (or dependency)'])"
   ]
  },
  {
   "cell_type": "code",
   "execution_count": 6,
   "metadata": {},
   "outputs": [
    {
     "data": {
      "text/html": [
       "<div>\n",
       "<style scoped>\n",
       "    .dataframe tbody tr th:only-of-type {\n",
       "        vertical-align: middle;\n",
       "    }\n",
       "\n",
       "    .dataframe tbody tr th {\n",
       "        vertical-align: top;\n",
       "    }\n",
       "\n",
       "    .dataframe thead th {\n",
       "        text-align: right;\n",
       "    }\n",
       "</style>\n",
       "<table border=\"1\" class=\"dataframe\">\n",
       "  <thead>\n",
       "    <tr style=\"text-align: right;\">\n",
       "      <th></th>\n",
       "      <th>Population (2019)</th>\n",
       "      <th>Density (P/Km²)</th>\n",
       "    </tr>\n",
       "    <tr>\n",
       "      <th>Country (or dependency)</th>\n",
       "      <th></th>\n",
       "      <th></th>\n",
       "    </tr>\n",
       "  </thead>\n",
       "  <tbody>\n",
       "    <tr>\n",
       "      <th>China</th>\n",
       "      <td>1433783686</td>\n",
       "      <td>153</td>\n",
       "    </tr>\n",
       "    <tr>\n",
       "      <th>India</th>\n",
       "      <td>1366417754</td>\n",
       "      <td>460</td>\n",
       "    </tr>\n",
       "    <tr>\n",
       "      <th>United States</th>\n",
       "      <td>329064917</td>\n",
       "      <td>36</td>\n",
       "    </tr>\n",
       "    <tr>\n",
       "      <th>Indonesia</th>\n",
       "      <td>270625568</td>\n",
       "      <td>149</td>\n",
       "    </tr>\n",
       "    <tr>\n",
       "      <th>Pakistan</th>\n",
       "      <td>216565318</td>\n",
       "      <td>281</td>\n",
       "    </tr>\n",
       "    <tr>\n",
       "      <th>...</th>\n",
       "      <td>...</td>\n",
       "      <td>...</td>\n",
       "    </tr>\n",
       "    <tr>\n",
       "      <th>Montserrat</th>\n",
       "      <td>4989</td>\n",
       "      <td>50</td>\n",
       "    </tr>\n",
       "    <tr>\n",
       "      <th>Falkland Islands</th>\n",
       "      <td>3377</td>\n",
       "      <td>0</td>\n",
       "    </tr>\n",
       "    <tr>\n",
       "      <th>Niue</th>\n",
       "      <td>1615</td>\n",
       "      <td>6</td>\n",
       "    </tr>\n",
       "    <tr>\n",
       "      <th>Tokelau</th>\n",
       "      <td>1340</td>\n",
       "      <td>134</td>\n",
       "    </tr>\n",
       "    <tr>\n",
       "      <th>Holy See</th>\n",
       "      <td>799</td>\n",
       "      <td>1998</td>\n",
       "    </tr>\n",
       "  </tbody>\n",
       "</table>\n",
       "<p>233 rows × 2 columns</p>\n",
       "</div>"
      ],
      "text/plain": [
       "                         Population (2019)  Density (P/Km²)\n",
       "Country (or dependency)                                    \n",
       "China                           1433783686              153\n",
       "India                           1366417754              460\n",
       "United States                    329064917               36\n",
       "Indonesia                        270625568              149\n",
       "Pakistan                         216565318              281\n",
       "...                                    ...              ...\n",
       "Montserrat                            4989               50\n",
       "Falkland Islands                      3377                0\n",
       "Niue                                  1615                6\n",
       "Tokelau                               1340              134\n",
       "Holy See                               799             1998\n",
       "\n",
       "[233 rows x 2 columns]"
      ]
     },
     "execution_count": 6,
     "metadata": {},
     "output_type": "execute_result"
    }
   ],
   "source": [
    "df"
   ]
  },
  {
   "cell_type": "code",
   "execution_count": 7,
   "metadata": {},
   "outputs": [],
   "source": [
    "countries = countries.join(df)"
   ]
  },
  {
   "cell_type": "code",
   "execution_count": 12,
   "metadata": {},
   "outputs": [
    {
     "data": {
      "text/html": [
       "<div>\n",
       "<style scoped>\n",
       "    .dataframe tbody tr th:only-of-type {\n",
       "        vertical-align: middle;\n",
       "    }\n",
       "\n",
       "    .dataframe tbody tr th {\n",
       "        vertical-align: top;\n",
       "    }\n",
       "\n",
       "    .dataframe thead th {\n",
       "        text-align: right;\n",
       "    }\n",
       "</style>\n",
       "<table border=\"1\" class=\"dataframe\">\n",
       "  <thead>\n",
       "    <tr style=\"text-align: right;\">\n",
       "      <th></th>\n",
       "      <th>2019 rank</th>\n",
       "      <th>2019 score[12]</th>\n",
       "      <th>Population (2019)</th>\n",
       "      <th>Density (P/Km²)</th>\n",
       "    </tr>\n",
       "    <tr>\n",
       "      <th>Country</th>\n",
       "      <th></th>\n",
       "      <th></th>\n",
       "      <th></th>\n",
       "      <th></th>\n",
       "    </tr>\n",
       "  </thead>\n",
       "  <tbody>\n",
       "    <tr>\n",
       "      <th>Iceland</th>\n",
       "      <td>1</td>\n",
       "      <td>1.072</td>\n",
       "      <td>339031.0</td>\n",
       "      <td>3.0</td>\n",
       "    </tr>\n",
       "    <tr>\n",
       "      <th>New Zealand</th>\n",
       "      <td>2</td>\n",
       "      <td>1.221</td>\n",
       "      <td>4783063.0</td>\n",
       "      <td>18.0</td>\n",
       "    </tr>\n",
       "    <tr>\n",
       "      <th>Portugal</th>\n",
       "      <td>3</td>\n",
       "      <td>1.274</td>\n",
       "      <td>10226187.0</td>\n",
       "      <td>112.0</td>\n",
       "    </tr>\n",
       "    <tr>\n",
       "      <th>Austria</th>\n",
       "      <td>4</td>\n",
       "      <td>1.291</td>\n",
       "      <td>8955102.0</td>\n",
       "      <td>109.0</td>\n",
       "    </tr>\n",
       "    <tr>\n",
       "      <th>Denmark</th>\n",
       "      <td>5</td>\n",
       "      <td>1.316</td>\n",
       "      <td>5771876.0</td>\n",
       "      <td>136.0</td>\n",
       "    </tr>\n",
       "    <tr>\n",
       "      <th>...</th>\n",
       "      <td>...</td>\n",
       "      <td>...</td>\n",
       "      <td>...</td>\n",
       "      <td>...</td>\n",
       "    </tr>\n",
       "    <tr>\n",
       "      <th>Iraq</th>\n",
       "      <td>159</td>\n",
       "      <td>3.369</td>\n",
       "      <td>39309783.0</td>\n",
       "      <td>91.0</td>\n",
       "    </tr>\n",
       "    <tr>\n",
       "      <th>Yemen</th>\n",
       "      <td>160</td>\n",
       "      <td>3.412</td>\n",
       "      <td>29161922.0</td>\n",
       "      <td>55.0</td>\n",
       "    </tr>\n",
       "    <tr>\n",
       "      <th>Syria</th>\n",
       "      <td>161</td>\n",
       "      <td>3.526</td>\n",
       "      <td>17070135.0</td>\n",
       "      <td>93.0</td>\n",
       "    </tr>\n",
       "    <tr>\n",
       "      <th>South Sudan</th>\n",
       "      <td>162</td>\n",
       "      <td>3.566</td>\n",
       "      <td>11062113.0</td>\n",
       "      <td>18.0</td>\n",
       "    </tr>\n",
       "    <tr>\n",
       "      <th>Somalia</th>\n",
       "      <td>163</td>\n",
       "      <td>3.574</td>\n",
       "      <td>15442905.0</td>\n",
       "      <td>25.0</td>\n",
       "    </tr>\n",
       "  </tbody>\n",
       "</table>\n",
       "<p>163 rows × 4 columns</p>\n",
       "</div>"
      ],
      "text/plain": [
       "            2019 rank  2019 score[12]  Population (2019)  Density (P/Km²)\n",
       "Country                                                                  \n",
       "Iceland             1           1.072           339031.0              3.0\n",
       "New Zealand         2           1.221          4783063.0             18.0\n",
       "Portugal            3           1.274         10226187.0            112.0\n",
       "Austria             4           1.291          8955102.0            109.0\n",
       "Denmark             5           1.316          5771876.0            136.0\n",
       "...               ...             ...                ...              ...\n",
       "Iraq              159           3.369         39309783.0             91.0\n",
       "Yemen             160           3.412         29161922.0             55.0\n",
       "Syria             161           3.526         17070135.0             93.0\n",
       "South Sudan       162           3.566         11062113.0             18.0\n",
       "Somalia           163           3.574         15442905.0             25.0\n",
       "\n",
       "[163 rows x 4 columns]"
      ]
     },
     "execution_count": 12,
     "metadata": {},
     "output_type": "execute_result"
    }
   ],
   "source": [
    "countries"
   ]
  },
  {
   "cell_type": "code",
   "execution_count": 71,
   "metadata": {},
   "outputs": [
    {
     "data": {
      "text/plain": [
       "<matplotlib.legend.Legend at 0x7f1674604048>"
      ]
     },
     "execution_count": 71,
     "metadata": {},
     "output_type": "execute_result"
    },
    {
     "data": {
      "image/png": "[encoded data removed]",
      "text/plain": [
       "<Figure size 864x576 with 1 Axes>"
      ]
     },
     "metadata": {
      "needs_background": "light"
     },
     "output_type": "display_data"
    }
   ],
   "source": [
    "plt.figure(figsize=(12,8))\n",
    "countries['2019 score[12]'].hist(bins=18)\n",
    "plt.plot([Iran['2019 score[12]'],Iran['2019 score[12]']],[0, 24.9], linestyle='--', label='Iran', linewidth=4)\n",
    "plt.plot([median,median],[0, 24.9], linestyle='--', label='median', linewidth=4)\n",
    "plt.legend()"
   ]
  },
  {
   "cell_type": "code",
   "execution_count": null,
   "metadata": {},
   "outputs": [],
   "source": []
  },
  {
   "cell_type": "code",
   "execution_count": 59,
   "metadata": {},
   "outputs": [],
   "source": [
    "mean, median, std =  countries['2019 score[12]'].mean(), countries['2019 score[12]'].median(), countries['2019 score[12]'].std()"
   ]
  },
  {
   "cell_type": "code",
   "execution_count": 60,
   "metadata": {},
   "outputs": [
    {
     "data": {
      "text/plain": [
       "(2.099748466257669, 2.035, 0.5112437671274297)"
      ]
     },
     "execution_count": 60,
     "metadata": {},
     "output_type": "execute_result"
    }
   ],
   "source": [
    "mean, median, std"
   ]
  },
  {
   "cell_type": "markdown",
   "metadata": {},
   "source": [
    "## Iran"
   ]
  },
  {
   "cell_type": "code",
   "execution_count": 30,
   "metadata": {},
   "outputs": [],
   "source": [
    "Iran = countries.loc['Iran']"
   ]
  },
  {
   "cell_type": "code",
   "execution_count": 31,
   "metadata": {},
   "outputs": [
    {
     "data": {
      "text/plain": [
       "2019 rank                    139\n",
       "2019 score[12]             2.542\n",
       "Population (2019)    8.29139e+07\n",
       "Density (P/Km²)               51\n",
       "Name: Iran, dtype: object"
      ]
     },
     "execution_count": 31,
     "metadata": {},
     "output_type": "execute_result"
    }
   ],
   "source": [
    "Iran"
   ]
  },
  {
   "cell_type": "markdown",
   "metadata": {},
   "source": [
    "## Countries with more than 70M population"
   ]
  },
  {
   "cell_type": "code",
   "execution_count": 32,
   "metadata": {},
   "outputs": [
    {
     "data": {
      "text/html": [
       "<div>\n",
       "<style scoped>\n",
       "    .dataframe tbody tr th:only-of-type {\n",
       "        vertical-align: middle;\n",
       "    }\n",
       "\n",
       "    .dataframe tbody tr th {\n",
       "        vertical-align: top;\n",
       "    }\n",
       "\n",
       "    .dataframe thead th {\n",
       "        text-align: right;\n",
       "    }\n",
       "</style>\n",
       "<table border=\"1\" class=\"dataframe\">\n",
       "  <thead>\n",
       "    <tr style=\"text-align: right;\">\n",
       "      <th></th>\n",
       "      <th>2019 rank</th>\n",
       "      <th>2019 score[12]</th>\n",
       "      <th>Population (2019)</th>\n",
       "      <th>Density (P/Km²)</th>\n",
       "    </tr>\n",
       "    <tr>\n",
       "      <th>Country</th>\n",
       "      <th></th>\n",
       "      <th></th>\n",
       "      <th></th>\n",
       "      <th></th>\n",
       "    </tr>\n",
       "  </thead>\n",
       "  <tbody>\n",
       "    <tr>\n",
       "      <th>Japan</th>\n",
       "      <td>9</td>\n",
       "      <td>1.369</td>\n",
       "      <td>1.268603e+08</td>\n",
       "      <td>348.0</td>\n",
       "    </tr>\n",
       "    <tr>\n",
       "      <th>Germany</th>\n",
       "      <td>22</td>\n",
       "      <td>1.547</td>\n",
       "      <td>8.351704e+07</td>\n",
       "      <td>240.0</td>\n",
       "    </tr>\n",
       "    <tr>\n",
       "      <th>Indonesia</th>\n",
       "      <td>41</td>\n",
       "      <td>1.785</td>\n",
       "      <td>2.706256e+08</td>\n",
       "      <td>149.0</td>\n",
       "    </tr>\n",
       "    <tr>\n",
       "      <th>Vietnam</th>\n",
       "      <td>57</td>\n",
       "      <td>1.877</td>\n",
       "      <td>9.646211e+07</td>\n",
       "      <td>311.0</td>\n",
       "    </tr>\n",
       "    <tr>\n",
       "      <th>Bangladesh</th>\n",
       "      <td>101</td>\n",
       "      <td>2.128</td>\n",
       "      <td>1.630462e+08</td>\n",
       "      <td>1253.0</td>\n",
       "    </tr>\n",
       "    <tr>\n",
       "      <th>China</th>\n",
       "      <td>110</td>\n",
       "      <td>2.217</td>\n",
       "      <td>1.433784e+09</td>\n",
       "      <td>153.0</td>\n",
       "    </tr>\n",
       "    <tr>\n",
       "      <th>Brazil</th>\n",
       "      <td>116</td>\n",
       "      <td>2.271</td>\n",
       "      <td>2.110495e+08</td>\n",
       "      <td>25.0</td>\n",
       "    </tr>\n",
       "    <tr>\n",
       "      <th>United States</th>\n",
       "      <td>128</td>\n",
       "      <td>2.401</td>\n",
       "      <td>3.290649e+08</td>\n",
       "      <td>36.0</td>\n",
       "    </tr>\n",
       "    <tr>\n",
       "      <th>Ethiopia</th>\n",
       "      <td>131</td>\n",
       "      <td>2.434</td>\n",
       "      <td>1.120787e+08</td>\n",
       "      <td>112.0</td>\n",
       "    </tr>\n",
       "    <tr>\n",
       "      <th>Philippines</th>\n",
       "      <td>134</td>\n",
       "      <td>2.516</td>\n",
       "      <td>1.081166e+08</td>\n",
       "      <td>363.0</td>\n",
       "    </tr>\n",
       "    <tr>\n",
       "      <th>Egypt</th>\n",
       "      <td>136</td>\n",
       "      <td>2.521</td>\n",
       "      <td>1.003881e+08</td>\n",
       "      <td>101.0</td>\n",
       "    </tr>\n",
       "    <tr>\n",
       "      <th>Iran</th>\n",
       "      <td>139</td>\n",
       "      <td>2.542</td>\n",
       "      <td>8.291391e+07</td>\n",
       "      <td>51.0</td>\n",
       "    </tr>\n",
       "    <tr>\n",
       "      <th>Mexico</th>\n",
       "      <td>140</td>\n",
       "      <td>2.600</td>\n",
       "      <td>1.275755e+08</td>\n",
       "      <td>66.0</td>\n",
       "    </tr>\n",
       "    <tr>\n",
       "      <th>India</th>\n",
       "      <td>141</td>\n",
       "      <td>2.605</td>\n",
       "      <td>1.366418e+09</td>\n",
       "      <td>460.0</td>\n",
       "    </tr>\n",
       "    <tr>\n",
       "      <th>Nigeria</th>\n",
       "      <td>148</td>\n",
       "      <td>2.898</td>\n",
       "      <td>2.009636e+08</td>\n",
       "      <td>221.0</td>\n",
       "    </tr>\n",
       "    <tr>\n",
       "      <th>Turkey</th>\n",
       "      <td>152</td>\n",
       "      <td>3.015</td>\n",
       "      <td>8.342962e+07</td>\n",
       "      <td>108.0</td>\n",
       "    </tr>\n",
       "    <tr>\n",
       "      <th>Pakistan</th>\n",
       "      <td>153</td>\n",
       "      <td>3.072</td>\n",
       "      <td>2.165653e+08</td>\n",
       "      <td>281.0</td>\n",
       "    </tr>\n",
       "    <tr>\n",
       "      <th>Russia</th>\n",
       "      <td>154</td>\n",
       "      <td>3.093</td>\n",
       "      <td>1.458723e+08</td>\n",
       "      <td>9.0</td>\n",
       "    </tr>\n",
       "  </tbody>\n",
       "</table>\n",
       "</div>"
      ],
      "text/plain": [
       "              2019 rank  2019 score[12]  Population (2019)  Density (P/Km²)\n",
       "Country                                                                    \n",
       "Japan                 9           1.369       1.268603e+08            348.0\n",
       "Germany              22           1.547       8.351704e+07            240.0\n",
       "Indonesia            41           1.785       2.706256e+08            149.0\n",
       "Vietnam              57           1.877       9.646211e+07            311.0\n",
       "Bangladesh          101           2.128       1.630462e+08           1253.0\n",
       "China               110           2.217       1.433784e+09            153.0\n",
       "Brazil              116           2.271       2.110495e+08             25.0\n",
       "United States       128           2.401       3.290649e+08             36.0\n",
       "Ethiopia            131           2.434       1.120787e+08            112.0\n",
       "Philippines         134           2.516       1.081166e+08            363.0\n",
       "Egypt               136           2.521       1.003881e+08            101.0\n",
       "Iran                139           2.542       8.291391e+07             51.0\n",
       "Mexico              140           2.600       1.275755e+08             66.0\n",
       "India               141           2.605       1.366418e+09            460.0\n",
       "Nigeria             148           2.898       2.009636e+08            221.0\n",
       "Turkey              152           3.015       8.342962e+07            108.0\n",
       "Pakistan            153           3.072       2.165653e+08            281.0\n",
       "Russia              154           3.093       1.458723e+08              9.0"
      ]
     },
     "execution_count": 32,
     "metadata": {},
     "output_type": "execute_result"
    }
   ],
   "source": [
    "countries[(countries['Population (2019)'] > 7e7)]"
   ]
  },
  {
   "cell_type": "code",
   "execution_count": 79,
   "metadata": {},
   "outputs": [
    {
     "data": {
      "text/plain": [
       "<matplotlib.legend.Legend at 0x7f1672b08898>"
      ]
     },
     "execution_count": 79,
     "metadata": {},
     "output_type": "execute_result"
    },
    {
     "data": {
      "image/png": "[encoded data removed]",
      "text/plain": [
       "<Figure size 864x576 with 1 Axes>"
      ]
     },
     "metadata": {
      "needs_background": "light"
     },
     "output_type": "display_data"
    }
   ],
   "source": [
    "plt.figure(figsize=(12,8))\n",
    "countries[(countries['Population (2019)'] > 7e7)]['2019 score[12]'].hist(bins=10)\n",
    "plt.plot([Iran['2019 score[12]'],Iran['2019 score[12]']],[0, 4.1], linestyle='--', label='Iran', linewidth=4)\n",
    "plt.plot([median,median],[0, 4.1], linestyle='--', label='global median', linewidth=4)\n",
    "median_ = countries[(countries['Population (2019)'] > 7e7)]['2019 score[12]'].median()\n",
    "plt.plot([median_,median_],[0, 4.1], linestyle='--', label='median', linewidth=4)\n",
    "plt.legend()"
   ]
  },
  {
   "cell_type": "markdown",
   "metadata": {},
   "source": [
    "## Countries with more than density of 50 person per $km^2$"
   ]
  },
  {
   "cell_type": "code",
   "execution_count": 85,
   "metadata": {},
   "outputs": [
    {
     "data": {
      "text/plain": [
       "<matplotlib.legend.Legend at 0x7f1672791d30>"
      ]
     },
     "execution_count": 85,
     "metadata": {},
     "output_type": "execute_result"
    },
    {
     "data": {
      "image/png": "[encoded data removed]",
      "text/plain": [
       "<Figure size 864x576 with 1 Axes>"
      ]
     },
     "metadata": {
      "needs_background": "light"
     },
     "output_type": "display_data"
    }
   ],
   "source": [
    "plt.figure(figsize=(12,8))\n",
    "countries[(countries['Density (P/Km²)'] > 50)]['2019 score[12]'].hist(bins=10)\n",
    "plt.plot([Iran['2019 score[12]'],Iran['2019 score[12]']],[0, 22.2], linestyle='--', label='Iran', linewidth=4)\n",
    "plt.plot([median,median],[0, 22.2], linestyle='--', label='global median', linewidth=4)\n",
    "median_ = countries[(countries['Density (P/Km²)'] >= 50)]['2019 score[12]'].median()\n",
    "plt.plot([median_,median_],[0, 22.2], linestyle='--', label='median', linewidth=4)\n",
    "plt.legend()"
   ]
  },
  {
   "cell_type": "markdown",
   "metadata": {},
   "source": [
    "## Countries with more than density of 50 person per $km^2$ and population on 70M"
   ]
  },
  {
   "cell_type": "code",
   "execution_count": 86,
   "metadata": {},
   "outputs": [
    {
     "data": {
      "text/plain": [
       "<matplotlib.legend.Legend at 0x7f16726a5278>"
      ]
     },
     "execution_count": 86,
     "metadata": {},
     "output_type": "execute_result"
    },
    {
     "data": {
      "image/png": "[encoded data removed]",
      "text/plain": [
       "<Figure size 864x576 with 1 Axes>"
      ]
     },
     "metadata": {
      "needs_background": "light"
     },
     "output_type": "display_data"
    }
   ],
   "source": [
    "plt.figure(figsize=(12,8))\n",
    "countries[(countries['Population (2019)'] > 7e7)&(countries['Density (P/Km²)'] > 50)]['2019 score[12]'].hist(bins=10)\n",
    "plt.plot([Iran['2019 score[12]'],Iran['2019 score[12]']],[0, 4.2], linestyle='--', label='Iran', linewidth=4)\n",
    "plt.plot([median,median],[0, 4.2], linestyle='--', label='global median', linewidth=4)\n",
    "median_ = countries[(countries['Population (2019)'] > 7e7)&(countries['Density (P/Km²)'] >= 50)]['2019 score[12]'].median()\n",
    "plt.plot([median_,median_],[0, 4.2], linestyle='--', label='median', linewidth=4)\n",
    "plt.legend()"
   ]
  },
  {
   "cell_type": "markdown",
   "metadata": {},
   "source": [
    "# Conclusion\n",
    "\n",
    "There is correlation visible between population and peace index in countries, the density also doesn't show any direct impact in peace index."
   ]
  }
 ],
 "metadata": {
  "kernelspec": {
   "display_name": "Python 3",
   "language": "python",
   "name": "python3"
  },
  "language_info": {
   "codemirror_mode": {
    "name": "ipython",
    "version": 3
   },
   "file_extension": ".py",
   "mimetype": "text/x-python",
   "name": "python",
   "nbconvert_exporter": "python",
   "pygments_lexer": "ipython3",
   "version": "3.6.7"
  }
 },
 "nbformat": 4,
 "nbformat_minor": 2
}
